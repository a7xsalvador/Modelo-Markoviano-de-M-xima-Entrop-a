{
  "cells": [
    {
      "cell_type": "markdown",
      "source": "# Modelo markoviano de máxima entropía\n\nUtilizamos un corpus en español y conllu para leer el corpus",
      "metadata": {
        "tags": [],
        "cell_id": "00001-fdafffbc-8216-4425-a6d8-a71ee47c9814",
        "deepnote_cell_type": "markdown"
      }
    },
    {
      "cell_type": "code",
      "metadata": {
        "tags": [],
        "cell_id": "00001-9522dd40-a8ec-43af-a5c0-985bf200e2f0",
        "deepnote_to_be_reexecuted": false,
        "source_hash": "5c94efc5",
        "execution_millis": 3752,
        "execution_start": 1616162874845,
        "deepnote_cell_type": "code"
      },
      "source": "!pip install conllu\n!git clone https://github.com/UniversalDependencies/UD_Spanish-AnCora.git",
      "execution_count": 1,
      "outputs": [
        {
          "name": "stdout",
          "text": "Requirement already satisfied: conllu in /root/venv/lib/python3.7/site-packages (4.4)\n\u001b[33mWARNING: You are using pip version 20.1.1; however, version 21.0.1 is available.\nYou should consider upgrading via the '/root/venv/bin/python -m pip install --upgrade pip' command.\u001b[0m\nfatal: destination path 'UD_Spanish-AnCora' already exists and is not an empty directory.\n",
          "output_type": "stream"
        }
      ]
    },
    {
      "cell_type": "code",
      "metadata": {
        "tags": [],
        "cell_id": "00002-bfb4c4f0-129d-4ee7-a4bd-69bf59378a3e",
        "deepnote_to_be_reexecuted": false,
        "source_hash": "a85df203",
        "execution_millis": 2,
        "execution_start": 1616162886061,
        "deepnote_cell_type": "code"
      },
      "source": "#leemos los datos que vienen del archivo conllu\nfrom conllu import parse_incr\nwordlist = []#creo una lista vacía\n",
      "execution_count": 4,
      "outputs": []
    },
    {
      "cell_type": "markdown",
      "source": "# Cálculo de conteos\n\nEn el modelo markoviano de máxima entropía calculamos las probabilidades de la siguiente forma:\n\n$$\nP(t_i|w_i, t_{i-1})=\\frac{C(w_i,t_i,t_{i-1})}{C(w_i,t_{i-1})}=\\frac{C(t_i|w_i|t_{i-1})}{C(w_i,t_{i-1})}\n$$\n(no está bien $C(t_i|w_i|t_{i-1})$ pero uso esta notacion)\n\n\n\n",
      "metadata": {
        "tags": [],
        "cell_id": "00004-e04e35ca-30f5-43f8-9a2d-ca50be2cff08",
        "deepnote_cell_type": "markdown"
      }
    },
    {
      "cell_type": "code",
      "metadata": {
        "tags": [],
        "cell_id": "00004-6f27edf4-8eac-4fae-8fab-4436c2c1cee1",
        "deepnote_to_be_reexecuted": false,
        "source_hash": "b98502e",
        "execution_millis": 1260,
        "output_cleared": false,
        "execution_start": 1616163442380,
        "deepnote_cell_type": "code"
      },
      "source": "data_file = open(\"UD_Spanish-AnCora/es_ancora-ud-dev.conllu\", \"r\", encoding=\"utf-8\") #abro el archivo que descargué al clonar el repositorio, agrego permisos de lectura con \"r\"\n\n#tenemos 2 diccionarios inicialmente vacíos\nupperCountDict = {} #la cuenta superior de la expresión\nlowerCountDict = {} #la cuenta inferior de la expresión\ntoken_anterior= {} #diccionario auxiliar para saber la expresión i-1\n\n#Empieza a hacerse las cuentas\nfor tokenlist in parse_incr(data_file):\n    cuenta = 0\n    token_anterior['upos'] = 'None'\n    for token in tokenlist:\n        token_actual = token\n        \n        superior = token_actual['upos']+'|'+token_actual['form'].lower()+'|'+token_anterior['upos']\n        inferior = token_actual['form'].lower()+'|'+token_anterior['upos']\n            \n        if superior in upperCountDict.keys():\n            upperCountDict[superior] +=1\n        else:\n            upperCountDict[superior] = 1\n\n        if inferior in lowerCountDict.keys():\n            lowerCountDict[inferior] +=1\n        else:\n            lowerCountDict[inferior] = 1  \n\n        token_anterior = token_actual\n\nupperCountDict\n             \n",
      "execution_count": 46,
      "outputs": [
        {
          "output_type": "execute_result",
          "execution_count": 46,
          "data": {
            "text/plain": "{'DET|el|None': 281,\n 'NOUN|gobernante|DET': 1,\n 'PUNCT|,|NOUN': 971,\n 'ADP|con|PUNCT': 77,\n 'ADJ|ganada|ADP': 1,\n 'NOUN|fama|ADJ': 1,\n 'ADP|desde|NOUN': 17,\n 'SCONJ|que|ADP': 145,\n 'VERB|llegó|SCONJ': 1,\n 'VERB|hace|VERB': 5,\n 'NUM|16|VERB': 2,\n 'NOUN|meses|NUM': 14,\n 'ADP|al|NOUN': 81,\n 'NOUN|poder|ADP': 8,\n 'ADP|de|NOUN': 2029,\n 'VERB|explotar|ADP': 1,\n 'ADP|al|VERB': 113,\n 'NOUN|máximo|ADP': 1,\n 'DET|su|NOUN': 11,\n 'NOUN|oratoria|DET': 1,\n 'CCONJ|y|NOUN': 415,\n 'ADJ|acusado|CCONJ': 2,\n 'ADP|por|ADJ': 120,\n 'DET|sus|ADP': 75,\n 'NOUN|detractores|DET': 3,\n 'NOUN|incontinencia|ADP': 1,\n 'ADJ|verbal|NOUN': 2,\n 'PUNCT|,|ADJ': 366,\n 'VERB|enmudeció|PUNCT': 1,\n 'ADP|desde|VERB': 16,\n 'DET|el|ADP': 555,\n 'NOUN|momento|DET': 19,\n 'ADP|en|NOUN': 304,\n 'PRON|que|DET': 95,\n 'DET|el|PRON': 31,\n 'PROPN|tribunal|DET': 2,\n 'PROPN|supremo|PROPN': 2,\n 'ADP|de|PROPN': 269,\n 'PROPN|justicia|ADP': 5,\n 'PUNCT|(|PROPN': 136,\n 'PROPN|tsj|PUNCT': 1,\n 'PUNCT|)|PROPN': 130,\n 'VERB|decidió|PUNCT': 4,\n 'VERB|suspender|VERB': 2,\n 'ADV|temporalmente|VERB': 1,\n 'DET|los|ADV': 16,\n 'NOUN|comicios|DET': 17,\n 'ADJ|múltiples|NOUN': 2,\n 'ADP|ante|ADJ': 7,\n 'DET|la|ADP': 1041,\n 'NOUN|imposibilidad|DET': 1,\n 'PUNCT|\"|NOUN': 248,\n 'ADJ|técnica|PUNCT': 1,\n 'PUNCT|\"|ADJ': 128,\n 'ADP|de|PUNCT': 95,\n '_|celebrarlos|ADP': 1,\n 'VERB|celebrar|_': 1,\n 'PRON|los|VERB': 5,\n 'NUM|28|DET': 2,\n 'ADP|de|NUM': 95,\n 'NOUN|mayo|ADP': 10,\n 'PUNCT|.|NOUN': 688,\n 'PROPN|chávez|None': 1,\n 'PRON|se|PROPN': 61,\n 'VERB|despidió|PRON': 1,\n 'ADP|del|VERB': 24,\n 'ADJ|mundanal|ADP': 1,\n 'NOUN|ruido|ADJ': 2,\n 'DET|el|NOUN': 47,\n 'NOUN|pasado|DET': 5,\n 'NOUN|jueves|NOUN': 1,\n 'ADP|con|NOUN': 107,\n 'DET|su|ADP': 186,\n 'ADV|más|DET': 20,\n 'ADJ|breve|ADV': 1,\n 'NOUN|discurso|ADJ': 4,\n 'ADP|por|NOUN': 107,\n 'NOUN|televisión|ADP': 3,\n 'ADJ|tildado|PUNCT': 1,\n 'ADP|de|ADJ': 272,\n 'PUNCT|\"|ADP': 38,\n 'ADJ|institucional|PUNCT': 2,\n 'ADP|por|PUNCT': 56,\n 'DET|los|ADP': 488,\n 'NOUN|observadores|DET': 2,\n 'ADP|en|PUNCT': 157,\n 'VERB|aceptó|PRON': 1,\n 'DET|el|VERB': 270,\n 'NOUN|aplazamiento|DET': 2,\n 'VERB|valoró|CCONJ': 1,\n 'DET|la|VERB': 284,\n 'PUNCT|\"|DET': 61,\n 'ADJ|pedagógica|PUNCT': 1,\n 'NOUN|medida|PUNCT': 1,\n 'ADP|como|NOUN': 4,\n 'DET|un|ADP': 203,\n 'NOUN|triunfo|DET': 6,\n 'NOUN|democracia|DET': 11,\n 'ADJ|venezolana|NOUN': 1,\n 'PUNCT|.|ADJ': 300,\n 'ADP|desde|None': 8,\n 'ADV|entonces|ADP': 6,\n 'VERB|entró|ADV': 1,\n 'ADP|en|VERB': 316,\n 'NOUN|silencio|ADP': 1,\n 'ADJ|absoluto|NOUN': 1,\n 'PRON|nadie|None': 2,\n 'VERB|sabe|PRON': 5,\n 'PRON|cuál|VERB': 1,\n 'AUX|es|PRON': 28,\n 'DET|la|AUX': 33,\n 'ADJ|nueva|DET': 16,\n 'NOUN|fecha|ADJ': 2,\n 'PRON|que|NOUN': 300,\n 'VERB|propone|PRON': 2,\n 'ADP|para|VERB': 28,\n 'DET|las|ADP': 300,\n 'NOUN|votaciones|DET': 6,\n 'CCONJ|ni|PUNCT': 10,\n 'SCONJ|si|CCONJ': 7,\n 'PRON|las|SCONJ': 3,\n 'VERB|quiere|PRON': 3,\n 'ADJ|juntas|VERB': 1,\n 'CCONJ|o|ADJ': 12,\n 'ADJ|separadas|CCONJ': 1,\n 'PRON|cuando|CCONJ': 1,\n 'AUX|va|PRON': 5,\n 'ADP|a|AUX': 36,\n 'VERB|reanudar|ADP': 1,\n 'NOUN|campaña|DET': 13,\n 'ADP|por|None': 23,\n 'NOUN|boca|DET': 2,\n 'VERB|suelen|NOUN': 1,\n 'VERB|hablar|VERB': 1,\n 'ADP|de|VERB': 126,\n 'NOUN|vez|ADP': 6,\n 'ADV|cuando|ADP': 2,\n 'ADV|tanto|ADV': 3,\n 'DET|el|ADV': 30,\n 'NOUN|ministro|DET': 16,\n 'PROPN|relaciones|ADP': 1,\n 'PROPN|exteriores|PROPN': 7,\n 'PUNCT|,|PROPN': 841,\n 'PROPN|josé|PUNCT': 7,\n 'PROPN|vicente|PROPN': 2,\n 'PROPN|rangel|PROPN': 1,\n 'ADJ|verdadero|PUNCT': 2,\n 'NOUN|portavoz|PUNCT': 3,\n 'ADP|del|PUNCT': 23,\n 'PROPN|gobierno|ADP': 30,\n 'SCONJ|como|PUNCT': 44,\n 'DET|el|SCONJ': 110,\n 'NOUN|presidente|DET': 35,\n 'PROPN|comisión|DET': 12,\n 'PROPN|legislativa|PROPN': 1,\n 'PROPN|nacional|PROPN': 11,\n 'PROPN|cln|PUNCT': 1,\n 'PUNCT|,|PUNCT': 250,\n 'CCONJ|o|PUNCT': 9,\n 'PROPN|congresillo|CCONJ': 1,\n 'PROPN|luis|PUNCT': 2,\n 'PROPN|miquilena|PROPN': 1,\n 'PRON|que|PUNCT': 175,\n 'PRON|quien|AUX': 2,\n 'ADV|aparentemente|PRON': 1,\n 'VERB|tiene|ADV': 17,\n 'DET|todos|VERB': 6,\n 'DET|los|DET': 22,\n 'NOUN|resortes|DET': 1,\n 'ADJ|nuevo|DET': 17,\n 'NOUN|escenario|ADJ': 1,\n 'ADJ|electoral|NOUN': 20,\n 'PROPN|cancillería|DET': 1,\n 'SCONJ|que|VERB': 303,\n 'DET|la|SCONJ': 81,\n 'NOUN|gira|DET': 3,\n 'ADJ|presidencial|NOUN': 3,\n 'ADJ|prevista|ADJ': 2,\n 'ADP|entre|ADJ': 14,\n 'NUM|16|DET': 3,\n 'CCONJ|y|NUM': 18,\n 'DET|el|CCONJ': 94,\n 'NUM|25|DET': 3,\n 'NOUN|junio|ADP': 14,\n 'DET|varios|ADP': 7,\n 'NOUN|países|DET': 10,\n 'PROPN|organización|DET': 5,\n 'PROPN|países|ADP': 2,\n 'PROPN|exportadores|PROPN': 2,\n 'PROPN|petróleo|ADP': 2,\n 'PROPN|opep|PUNCT': 2,\n 'NOUN|fin|DET': 8,\n 'VERB|afinar|ADP': 1,\n 'NOUN|detalles|VERB': 1,\n 'NOUN|cara|ADP': 1,\n 'ADP|a|NOUN': 237,\n 'PROPN|ii|DET': 1,\n 'PROPN|cumbre|PROPN': 1,\n 'DET|ese|ADP': 9,\n 'NOUN|cartel|DET': 2,\n 'ADJ|petrolero|NOUN': 2,\n 'ADP|en|ADJ': 164,\n 'PROPN|caracas|ADP': 1,\n 'VERB|está|PUNCT': 4,\n 'NOUN|alero|DET': 2,\n 'ADP|hasta|NOUN': 14,\n 'PRON|se|SCONJ': 50,\n 'VERB|fijen|PRON': 1,\n 'DET|los|VERB': 67,\n 'PROPN|miquilena|None': 1,\n 'CCONJ|mientras|PUNCT': 15,\n 'NOUN|tanto|CCONJ': 1,\n 'PRON|se|PUNCT': 71,\n 'AUX|ha|PRON': 83,\n 'VERB|convertido|AUX': 7,\n 'DET|una|VERB': 108,\n 'NOUN|vez|DET': 20,\n 'ADV|más|NOUN': 44,\n 'ADP|desde|ADV': 1,\n 'PROPN|chávez|SCONJ': 1,\n 'VERB|ocupa|PROPN': 1,\n 'PROPN|presidencia|DET': 2,\n 'ADP|en|PROPN': 84,\n 'NOUN|comodín|PUNCT': 1,\n 'NOUN|partida|DET': 6,\n 'SCONJ|pues|PUNCT': 7,\n 'VERB|marcará|SCONJ': 1,\n 'NOUN|pauta|DET': 1,\n 'ADP|sobre|NOUN': 33,\n 'ADJ|inmediato|DET': 1,\n 'NOUN|futuro|ADJ': 1,\n 'ADJ|político|NOUN': 8,\n 'SCONJ|si|None': 11,\n 'PROPN|tsj|DET': 1,\n 'ADV|no|PROPN': 30,\n 'PRON|lo|ADV': 14,\n 'VERB|remedia|PRON': 1,\n 'VERB|admitir|ADP': 1,\n 'DET|un|VERB': 171,\n 'NOUN|recurso|DET': 6,\n 'PROPN|defensoría|DET': 1,\n 'ADP|del|PROPN': 60,\n 'PROPN|pueblo|ADP': 4,\n 'ADP|para|PROPN': 31,\n 'VERB|evitar|ADP': 8,\n 'PROPN|congresillo|DET': 2,\n 'VERB|designe|PROPN': 1,\n 'PUNCT|\"|VERB': 103,\n 'ADP|a|PUNCT': 62,\n 'NOUN|dedo|ADP': 1,\n 'ADV|mañana|PUNCT': 1,\n 'PUNCT|,|ADV': 126,\n 'NOUN|viernes|PUNCT': 5,\n 'NOUN|directiva|ADJ': 3,\n 'ADP|del|NOUN': 491,\n 'PROPN|consejo|ADP': 6,\n 'PROPN|electoral|PROPN': 4,\n 'PROPN|cne|PUNCT': 1,\n 'PROPN|miquilena|PUNCT': 1,\n 'VERB|nombrará|PROPN': 1,\n 'ADP|a|VERB': 309,\n 'NOUN|criterio|DET': 1,\n 'NOUN|autoridades|DET': 7,\n 'NOUN|organismo|DET': 1,\n 'PROPN|cne|DET': 1,\n 'AUX|fue|PROPN': 16,\n 'VERB|acusado|AUX': 4,\n 'DET|unos|VERB': 8,\n 'NOUN|días|DET': 8,\n 'NOUN|generalidad|DET': 1,\n 'NOUN|fuerzas|DET': 6,\n 'ADJ|políticas|NOUN': 7,\n 'ADJ|venezolanas|ADJ': 1,\n 'AUX|ser|ADP': 19,\n 'DET|el|AUX': 47,\n 'ADJ|verdadero|DET': 2,\n 'CCONJ|y|ADJ': 208,\n 'ADJ|nico|CCONJ': 1,\n 'NOUN|causante|ADJ': 1,\n 'NOUN|aplazamiento|ADP': 2,\n 'ADJ|debido|NOUN': 2,\n 'ADP|a|ADJ': 124,\n 'NOUN|incompetencia|PUNCT': 1,\n 'NUM|cinco|DET': 7,\n 'NOUN|miembros|NUM': 3,\n 'VERB|complicaron|PRON': 1,\n 'DET|las|VERB': 92,\n 'ADV|ya|DET': 3,\n 'ADP|de|ADV': 113,\n 'ADP|por|ADP': 4,\n 'NOUN|sí|ADP': 1,\n 'ADJ|complejas|NOUN': 1,\n 'NOUN|elecciones|ADJ': 4,\n 'ADP|con|ADJ': 53,\n 'ADJ|continuas|ADP': 1,\n 'NOUN|rectificaciones|ADJ': 1,\n 'NOUN|bases|DET': 3,\n 'NOUN|datos|ADP': 8,\n 'NOUN|proceso|ADP': 6,\n 'ADJ|automatizado|NOUN': 2,\n 'ADJ|anterior|DET': 6,\n 'PROPN|cne|ADJ': 1,\n 'ADJ|elegido|PUNCT': 1,\n 'ADV|también|ADJ': 2,\n 'ADP|por|ADV': 31,\n 'PROPN|miquilena|ADP': 1,\n 'VERB|dimitió|PUNCT': 1,\n 'ADJ|pleno|ADP': 1,\n 'DET|el|ADJ': 21,\n 'NOUN|lunes|NOUN': 1,\n 'ADP|tras|NOUN': 7,\n 'VERB|soportar|ADP': 1,\n 'NOUN|lluvia|DET': 2,\n 'NOUN|críticas|ADP': 1,\n 'NOUN|falta|PUNCT': 1,\n 'NOUN|experiencia|ADP': 3,\n 'CCONJ|y|PUNCT': 188,\n 'ADP|a|CCONJ': 21,\n 'PRON|se|NOUN': 99,\n 'PRON|les|PRON': 15,\n 'VERB|prohibido|AUX': 1,\n 'NOUN|salida|DET': 4,\n 'NOUN|país|ADP': 17,\n 'SCONJ|mientras|PUNCT': 6,\n 'AUX|son|SCONJ': 1,\n 'VERB|investigados|AUX': 1,\n 'ADV|judicialmente|VERB': 1,\n 'NOUN|comportamiento|DET': 4,\n 'ADV|ahora|None': 3,\n 'DET|el|PUNCT': 169,\n 'VERB|quiere|PROPN': 2,\n 'VERB|guardar|VERB': 1,\n 'NOUN|formas|DET': 3,\n 'VERB|consultar|CCONJ': 1,\n 'NOUN|sociedad|PUNCT': 1,\n 'ADJ|civil|NOUN': 5,\n 'PUNCT|(|PUNCT': 5,\n 'PROPN|iglesia|PUNCT': 1,\n 'NOUN|partidos|PUNCT': 1,\n 'NOUN|empresarios|PUNCT': 1,\n 'NOUN|sindicatos|PUNCT': 1,\n 'PUNCT|)|NOUN': 42,\n 'PRON|cuál|PUNCT': 1,\n 'AUX|sería|PRON': 2,\n 'NOUN|composición|DET': 1,\n 'ADJ|idónea|NOUN': 1,\n 'ADJ|equilibrada|CCONJ': 1,\n 'ADP|del|ADJ': 78,\n 'PROPN|cne|ADP': 2,\n 'ADV|supuestamente|PUNCT': 1,\n 'ADJ|garante|ADV': 1,\n 'NOUN|imparcialidad|DET': 1,\n 'VERB|dar|ADP': 4,\n 'NOUN|tinte|DET': 1,\n 'ADJ|democrático|NOUN': 3,\n 'PRON|lo|ADP': 47,\n 'PRON|que|PRON': 80,\n 'AUX|será|PRON': 4,\n 'DET|una|AUX': 21,\n 'NOUN|designación|DET': 1,\n 'PROPN|elías|None': 1,\n 'PROPN|jaua|PROPN': 1,\n 'NOUN|miembro|PUNCT': 2,\n 'PROPN|congresillo|ADP': 1,\n 'VERB|considera|PUNCT': 2,\n 'DET|los|SCONJ': 36,\n 'ADJ|nuevos|DET': 4,\n 'NOUN|miembros|ADJ': 2,\n 'AUX|deben|PROPN': 1,\n 'VERB|tener|AUX': 8,\n 'NOUN|experiencia|VERB': 1,\n 'ADP|para|NOUN': 124,\n 'VERB|dirigir|PUNCT': 1,\n 'NOUN|procesos|VERB': 1,\n 'ADJ|complejos|NOUN': 1,\n 'AUX|deben|CCONJ': 1,\n 'AUX|ser|AUX': 11,\n 'NOUN|personas|AUX': 2,\n 'NOUN|independencia|ADP': 1,\n 'NOUN|equilibrio|CCONJ': 1,\n 'NOUN|respetabilidad|PUNCT': 1,\n 'ADJ|reconocida|CCONJ': 1,\n 'NOUN|solvencia|ADJ': 1,\n 'ADJ|moral|NOUN': 1,\n 'PRON|algo|PUNCT': 3,\n 'AUX|fue|PRON': 11,\n 'VERB|puesto|AUX': 5,\n 'NOUN|entredicho|ADP': 1,\n 'ADV|mientras|None': 2,\n 'PROPN|defensa|ADP': 3,\n 'NOUN|general|PUNCT': 2,\n 'PROPN|eliécer|NOUN': 1,\n 'PROPN|hurtado|PROPN': 1,\n 'VERB|vio|PRON': 3,\n 'ADJ|obligado|VERB': 1,\n 'VERB|salir|ADP': 2,\n 'NOUN|paso|ADP': 3,\n 'ADV|casi|ADV': 1,\n 'ADJ|normales|ADV': 1,\n 'ADJ|permanentes|CCONJ': 1,\n 'NOUN|rumores|ADJ': 1,\n 'NOUN|golpe|ADP': 1,\n 'PROPN|estado|ADP': 18,\n 'VERB|negó|CCONJ': 3,\n 'AUX|haya|SCONJ': 8,\n 'NOUN|división|AUX': 1,\n 'NOUN|filas|DET': 3,\n 'ADJ|castrenses|NOUN': 2,\n 'ADV|mucho|CCONJ': 1,\n 'ADV|menos|ADV': 3,\n 'SCONJ|que|ADV': 62,\n 'AUX|esté|SCONJ': 1,\n 'ADP|en|AUX': 15,\n 'NOUN|marcha|ADP': 7,\n 'DET|una|NOUN': 14,\n 'NOUN|conspiración|DET': 1,\n 'ADP|contra|NOUN': 29,\n 'PROPN|chávez|ADP': 2,\n 'PUNCT|.|PROPN': 283,\n 'PUNCT|\"|None': 88,\n 'NOUN|pueblo|DET': 7,\n 'AUX|puede|NOUN': 7,\n 'AUX|estar|AUX': 2,\n 'ADJ|seguro|AUX': 3,\n 'ADV|aquí|SCONJ': 1,\n 'ADV|no|ADV': 24,\n 'VERB|existe|ADV': 4,\n 'PRON|nada|VERB': 7,\n 'ADP|de|PRON': 91,\n 'NOUN|conspiración|ADP': 1,\n 'AUX|está|CCONJ': 2,\n 'ADJ|preso|AUX': 1,\n 'PRON|nadie|ADJ': 1,\n 'ADP|por|PRON': 11,\n 'DET|esos|ADP': 6,\n 'NOUN|motivos|DET': 2,\n 'ADV|tampoco|NOUN': 1,\n 'PUNCT|\"|ADV': 15,\n 'VERB|declaró|PUNCT': 2,\n 'PROPN|hurtado|VERB': 1,\n 'DET|una|ADP': 139,\n 'NOUN|rueda|DET': 2,\n 'NOUN|prensa|ADP': 5,\n 'VERB|añadió|None': 4,\n 'VERB|desconoce|SCONJ': 2,\n 'NOUN|procedencia|DET': 1,\n 'NOUN|rumores|DET': 2,\n 'AUX|estarían|PRON': 1,\n 'ADJ|motivados|AUX': 1,\n 'ADJ|supuesta|DET': 1,\n 'NOUN|división|ADJ': 3,\n 'NOUN|milicia|DET': 1,\n 'ADP|entre|NOUN': 42,\n 'NOUN|partidarios|DET': 2,\n 'CCONJ|y|PROPN': 208,\n 'DET|los|CCONJ': 22,\n 'NOUN|seguidores|DET': 5,\n 'NOUN|aspirante|ADP': 1,\n 'ADV|también|CCONJ': 9,\n 'NOUN|militar|ADV': 1,\n 'ADJ|retirado|NOUN': 1,\n 'PROPN|francisco|PUNCT': 5,\n 'PROPN|arias|PROPN': 1,\n 'PROPN|cárdenas|PROPN': 1,\n 'PRON|quien|PUNCT': 29,\n 'INTJ|sí|PRON': 2,\n 'PRON|se|INTJ': 2,\n 'VERB|explayado|AUX': 1,\n 'DET|sus|VERB': 28,\n 'NOUN|opiniones|DET': 1,\n 'NOUN|payasada|PUNCT': 1,\n 'DET|la|None': 146,\n 'NOUN|amnistía|DET': 8,\n 'VERB|favorece|NOUN': 1,\n 'NUM|catorce|DET': 1,\n 'NOUN|coroneles|NUM': 1,\n 'ADJ|detenidos|NOUN': 1,\n 'ADP|al|CCONJ': 12,\n 'ADV|más|ADP': 13,\n 'NOUN|centenar|DET': 1,\n 'NOUN|oficiales|ADP': 1,\n 'ADJ|menor|ADP': 1,\n 'NOUN|rango|ADJ': 1,\n 'ADJ|procesados|NOUN': 1,\n 'VERB|participar|ADP': 2,\n 'NOUN|asonada|DET': 1,\n 'ADJ|golpista|NOUN': 1,\n 'ADP|contra|ADJ': 4,\n 'PROPN|mahuad|ADP': 4,\n 'PRON|que|PROPN': 30,\n 'VERB|facilitó|PRON': 1,\n 'NOUN|sucesión|DET': 1,\n 'NOUN|presidencia|DET': 3,\n 'PROPN|gustavo|ADP': 1,\n 'PROPN|noboa|PROPN': 1,\n 'ADJ|solicitada|None': 1,\n 'ADP|al|ADJ': 28,\n 'PROPN|congreso|ADP': 9,\n 'ADP|por|PROPN': 20,\n 'DET|propio|DET': 5,\n 'NOUN|jefe|DET': 6,\n 'AUX|ha|NOUN': 29,\n 'AUX|sido|AUX': 32,\n 'VERB|exigida|AUX': 1,\n 'ADP|por|VERB': 91,\n 'DET|todos|ADP': 14,\n 'NOUN|frentes|DET': 2,\n 'ADJ|sociales|NOUN': 3,\n 'PRON|que|ADJ': 63,\n 'AUX|han|PRON': 26,\n 'VERB|anunciado|AUX': 3,\n 'DET|su|VERB': 70,\n 'ADJ|incondicional|DET': 1,\n 'NOUN|apoyo|ADJ': 1,\n 'NOUN|militares|DET': 4,\n 'ADJ|rebeldes|NOUN': 3,\n 'PROPN|noboa|None': 1,\n 'NOUN|vicepresidente|AUX': 1,\n 'NOUN|gobierno|DET': 4,\n 'PRON|le|CCONJ': 8,\n 'VERB|sucedió|PRON': 1,\n 'NOUN|cargo|DET': 3,\n 'NOUN|caída|DET': 4,\n 'VERB|permitirá|NOUN': 1,\n 'NOUN|pacificación|DET': 1,\n 'NOUN|nación|DET': 5,\n 'DET|la|CCONJ': 80,\n 'NOUN|creación|DET': 6,\n 'NOUN|ambiente|DET': 2,\n 'ADJ|propicio|NOUN': 1,\n 'ADP|para|ADJ': 81,\n 'NOUN|diálogo|DET': 3,\n 'NOUN|concertación|DET': 1,\n 'CCONJ|y|None': 24,\n 'AUX|es|CCONJ': 4,\n 'SCONJ|que|AUX': 36,\n 'NOUN|coroneles|DET': 1,\n 'VERB|gozan|ADJ': 1,\n 'ADJ|amplia|DET': 3,\n 'NOUN|simpatía|ADJ': 1,\n 'NOUN|población|DET': 7,\n 'PUNCT|,|SCONJ': 17,\n 'ADP|según|PUNCT': 24,\n 'NOUN|encuestas|DET': 2,\n 'DET|la|PUNCT': 117,\n 'NOUN|mayoría|DET': 13,\n 'VERB|considera|NOUN': 1,\n 'ADJ|positivo|VERB': 1,\n 'SCONJ|que|DET': 3,\n 'AUX|hayan|SCONJ': 1,\n 'VERB|apoyado|AUX': 2,\n 'NOUN|movimientos|DET': 4,\n 'VERB|exigían|PRON': 1,\n 'ADJ|acusado|PUNCT': 1,\n 'AUX|haber|ADP': 15,\n 'VERB|ahondado|AUX': 1,\n 'NOUN|crisis|DET': 8,\n 'ADJ|económica|NOUN': 4,\n 'VERB|afecta|PRON': 1,\n 'NOUN|cabecilla|DET': 1,\n 'NOUN|movimiento|ADP': 3,\n 'ADJ|militar|NOUN': 4,\n 'AUX|fue|ADJ': 6,\n 'NOUN|coronel|DET': 2,\n 'PROPN|lucio|NOUN': 1,\n 'PROPN|gutiérrez|PROPN': 3,\n 'VERB|apoyó|PRON': 1,\n 'NUM|miles|DET': 1,\n 'NOUN|indígenas|ADP': 1,\n 'VERB|ocuparon|PRON': 1,\n 'NUM|21|DET': 1,\n 'NOUN|enero|ADP': 9,\n 'PROPN|palacio|DET': 1,\n 'PROPN|legislativo|PROPN': 1,\n 'ADV|luego|CCONJ': 5,\n 'VERB|marcharon|ADV': 1,\n 'ADP|hacia|VERB': 6,\n 'NOUN|centro|DET': 6,\n 'PROPN|quito|ADP': 1,\n 'VERB|tomar|ADP': 3,\n 'NOUN|posesión|VERB': 1,\n 'PROPN|casa|DET': 3,\n 'PROPN|presidencial|PROPN': 1,\n 'PROPN|gutiérrez|None': 1,\n 'PRON|se|ADV': 68,\n 'VERB|arrepiente|PRON': 1,\n 'VERB|participado|AUX': 1,\n 'NOUN|insurrección|DET': 1,\n 'SCONJ|que|ADJ': 39,\n 'NOUN|actitud|DET': 6,\n 'NOUN|oficiales|DET': 2,\n 'VERB|debió|PRON': 1,\n 'ADJ|elevado|ADP': 2,\n 'NOUN|grado|ADJ': 1,\n 'NOUN|corrupción|ADP': 2,\n 'VERB|dice|PRON': 4,\n 'AUX|hubo|VERB': 1,\n 'ADP|durante|AUX': 2,\n 'NOUN|administración|ADJ': 1,\n 'VERB|quiere|NOUN': 3,\n 'VERB|concluir|VERB': 1,\n 'ADJ|brillante|DET': 2,\n 'NOUN|carrera|ADJ': 1,\n 'SCONJ|aunque|PUNCT': 32,\n 'ADV|aún|SCONJ': 2,\n 'AUX|debe|ADV': 3,\n 'VERB|esperar|AUX': 1,\n 'ADJ|posibles|DET': 3,\n 'NOUN|sanciones|ADJ': 2,\n 'ADJ|disciplinarias|NOUN': 3,\n 'PRON|le|PRON': 31,\n 'AUX|podría|PRON': 4,\n 'VERB|imponer|AUX': 1,\n 'NOUN|mando|DET': 2,\n 'NOUN|opiniones|ADP': 1,\n 'NOUN|diputados|ADP': 1,\n 'ADV|no|PUNCT': 55,\n 'VERB|impide|ADV': 1,\n 'DET|las|SCONJ': 39,\n 'ADJ|militares|NOUN': 5,\n 'VERB|impongan|ADJ': 1,\n 'NOUN|sanciones|VERB': 3,\n 'ADJ|involucrados|NOUN': 1,\n 'ADV|sólo|ADJ': 4,\n 'VERB|establece|ADV': 1,\n 'NOUN|suspensión|DET': 1,\n 'NOUN|procesos|ADP': 1,\n 'ADJ|penales|NOUN': 1,\n 'ADJ|civiles|ADJ': 1,\n 'ADJ|seguidos|DET': 1,\n 'PROPN|corte|DET': 1,\n 'PROPN|militar|PROPN': 1,\n 'DET|los|None': 63,\n 'ADJ|populares|NOUN': 1,\n 'ADV|no|ADJ': 13,\n 'AUX|están|ADV': 2,\n 'ADJ|dispuestos|AUX': 2,\n 'PROPN|fuerzas|DET': 3,\n 'PROPN|armadas|PROPN': 2,\n 'VERB|impongan|PROPN': 1,\n 'ADV|acaso|PUNCT': 2,\n 'PRON|las|PUNCT': 1,\n 'VERB|aplican|PRON': 1,\n 'PUNCT|,|VERB': 115,\n 'VERB|convocarán|PUNCT': 1,\n 'NOUN|protestas|ADP': 2,\n 'NOUN|mandos|DET': 2,\n 'SCONJ|según|PUNCT': 15,\n 'PRON|lo|SCONJ': 5,\n 'VERB|aseguró|PRON': 5,\n 'NOUN|dirigente|DET': 6,\n 'PROPN|coordinadora|DET': 1,\n 'PROPN|movimientos|ADP': 1,\n 'PROPN|sociales|PROPN': 2,\n 'PROPN|napoleón|PUNCT': 1,\n 'PROPN|saltos|PROPN': 1,\n 'AUX|vamos|PUNCT': 3,\n 'AUX|estar|ADP': 6,\n 'NOUN|vigilantes|AUX': 1,\n 'VERB|cumpla|PRON': 2,\n 'PROPN|constitución|DET': 1,\n 'SCONJ|que|CCONJ': 41,\n 'AUX|sea|NOUN': 2,\n 'ADJ|total|AUX': 1,\n 'CCONJ|es|PUNCT': 1,\n 'ADV|luego|SCONJ': 1,\n 'VERB|tomen|PRON': 1,\n 'NOUN|retaliaciones|VERB': 1,\n 'CCONJ|o|NOUN': 42,\n 'NOUN|venganzas|CCONJ': 1,\n 'NOUN|pretexto|ADP': 1,\n 'NOUN|sanción|DET': 4,\n 'ADJ|disciplinaria|NOUN': 1,\n 'VERB|indicó|PUNCT': 8,\n 'VERB|agregó|None': 1,\n 'SCONJ|si|SCONJ': 13,\n 'VERB|acatan|ADV': 1,\n 'NOUN|plenitud|ADP': 1,\n 'DET|la|NOUN': 20,\n 'PUNCT|\"|PUNCT': 56,\n 'NOUN|posición|DET': 4,\n 'CCONJ|e|PUNCT': 3,\n 'VERB|imponen|CCONJ': 1,\n 'AUX|podrían|PRON': 1,\n 'VERB|llegar|AUX': 4,\n 'ADP|hasta|VERB': 13,\n 'NOUN|separación|DET': 4,\n 'NOUN|rebeldes|DET': 1,\n 'DET|los|PUNCT': 44,\n 'NOUN|grupos|DET': 4,\n 'VERB|retomarán|ADJ': 1,\n 'NOUN|movilizaciones|DET': 1,\n 'PRON|se|CCONJ': 33,\n 'NOUN|convulsión|DET': 1,\n 'ADJ|mayor|NOUN': 3,\n 'PUNCT|.|PUNCT': 199,\n 'PROPN|legislativo|ADP': 1,\n 'PROPN|juan|PUNCT': 5,\n 'PROPN|josé|PROPN': 7,\n 'PROPN|pons|PROPN': 2,\n 'VERB|coincidió|PUNCT': 2,\n 'VERB|tiene|NOUN': 4,\n 'NOUN|objetivo|ADP': 1,\n 'VERB|pacificar|PUNCT': 1,\n 'VERB|devolver|CCONJ': 1,\n 'NOUN|tranquilidad|DET': 1,\n 'DET|la|PRON': 17,\n 'VERB|necesita|NOUN': 1,\n 'VERB|atender|ADP': 5,\n 'DET|otros|VERB': 5,\n 'NOUN|problemas|DET': 5,\n 'ADJ|urgentes|NOUN': 2,\n 'ADP|como|ADJ': 3,\n 'NOUN|pobreza|DET': 4,\n 'NOUN|aprobación|DET': 2,\n 'AUX|es|PUNCT': 38,\n 'NOUN|muestra|DET': 3,\n 'NOUN|responsabilidad|ADP': 1,\n 'ADJ|cívica|NOUN': 1,\n 'ADJ|ecuatoriano|PROPN': 1,\n '_|olvidarnos|PUNCT': 1,\n 'VERB|olvidar|_': 1,\n 'PRON|nos|VERB': 9,\n 'NOUN|hechos|DET': 3,\n 'ADJ|pasados|NOUN': 2,\n 'VERB|construir|ADP': 2,\n 'NOUN|historia|ADJ': 1,\n 'VERB|afirmó|PUNCT': 8,\n 'PROPN|pons|VERB': 1,\n 'VERB|hace|None': 5,\n 'NOUN|par|DET': 3,\n 'NOUN|días|ADP': 1,\n 'ADJ|nica|DET': 2,\n 'NOUN|acera|ADJ': 1,\n 'VERB|vi|NOUN': 1,\n 'NUM|cinco|VERB': 5,\n 'NOUN|contenedores|NUM': 1,\n 'ADJ|juntos|NOUN': 1,\n 'PUNCT|:|ADJ': 11,\n 'DET|un|PUNCT': 51,\n 'NOUN|contenedor|DET': 4,\n 'ADJ|metálico|NOUN': 2,\n 'ADJ|verde|ADJ': 1,\n 'PUNCT|(|ADJ': 25,\n 'ADP|para|PUNCT': 56,\n 'VERB|reciclar|ADP': 3,\n 'NOUN|vidrio|VERB': 1,\n 'PUNCT|;|PUNCT': 5,\n 'ADJ|amarillo|ADJ': 1,\n 'NOUN|papeles|VERB': 1,\n 'PUNCT|:|NOUN': 20,\n 'PUNCT|¡|PUNCT': 5,\n 'CCONJ|pero|PUNCT': 79,\n 'ADV|no|CCONJ': 29,\n 'NOUN|cartones|ADV': 1,\n 'PUNCT|!|NOUN': 3,\n 'VERB|aclaraba|PUNCT': 1,\n 'PUNCT|)|VERB': 2,\n 'DET|otro|PUNCT': 4,\n 'ADJ|verde|NOUN': 1,\n 'ADP|de|CCONJ': 35,\n 'NOUN|plástico|ADP': 1,\n 'NOUN|basura|DET': 1,\n 'ADJ|normal|NOUN': 2,\n 'PUNCT|)|ADJ': 12,\n 'ADJ|amarillo|NOUN': 2,\n 'ADV|más|PUNCT': 17,\n 'ADJ|pequeño|ADV': 2,\n 'ADJ|acoplado|PUNCT': 1,\n 'ADP|del|ADP': 2,\n 'NOUN|papel|ADP': 3,\n 'NOUN|pilas|VERB': 1,\n 'ADJ|normales|NOUN': 1,\n 'PRON|otro|CCONJ': 2,\n 'ADV|más|PRON': 13,\n 'ADV|aún|ADJ': 1,\n 'PUNCT|(|ADV': 2,\n 'ADJ|colocado|PUNCT': 1,\n 'ADP|sobre|ADJ': 5,\n 'NOUN|pilas|DET': 1,\n 'ADJ|botón|NOUN': 1,\n 'NOUN|reciclaje|None': 1,\n 'NOUN|ahorro|PUNCT': 1,\n 'NOUN|aprovechamiento|PUNCT': 1,\n 'NOUN|residuos|DET': 1,\n 'NOUN|lucha|CCONJ': 1,\n 'NOUN|despilfarro|DET': 2,\n 'ADJ|energético|NOUN': 1,\n 'ADJ|ricos|NOUN': 1,\n 'ADJ|imbuido|None': 1,\n 'NOUN|espíritu|DET': 1,\n 'NOUN|escritor|DET': 1,\n 'ADJ|inglés|NOUN': 2,\n 'PUNCT|-|ADJ': 18,\n 'ADJ|excepcional|PUNCT': 1,\n 'ADJ|sarcástico|CCONJ': 1,\n 'VERB|proponía|PUNCT': 1,\n 'ADV|poco|VERB': 4,\n 'ADV|no|SCONJ': 39,\n 'VERB|tirase|PRON': 2,\n 'NOUN|agua|DET': 1,\n 'NOUN|bolsa|DET': 4,\n 'NOUN|agua|ADP': 6,\n 'ADJ|caliente|NOUN': 1,\n '_|tirarla|None': 1,\n 'VERB|tirar|_': 3,\n 'PRON|la|VERB': 7,\n 'PUNCT|,|PRON': 74,\n 'VERB|decía|PUNCT': 1,\n 'DET|un|AUX': 34,\n 'PUNCT|;|NOUN': 14,\n 'PRON|lo|PUNCT': 30,\n 'SCONJ|que|PRON': 7,\n 'AUX|hay|SCONJ': 9,\n 'VERB|hacer|SCONJ': 5,\n 'AUX|es|VERB': 5,\n '_|reciclarla|AUX': 1,\n 'VERB|reciclar|_': 1,\n '_|guardarla|PUNCT': 1,\n 'VERB|guardar|_': 1,\n 'CCONJ|y|PRON': 13,\n '_|volverla|CCONJ': 1,\n 'VERB|volver|_': 1,\n 'ADP|a|PRON': 29,\n 'VERB|calentar|ADP': 1,\n 'NOUN|día|ADP': 7,\n 'ADJ|siguiente|NOUN': 1,\n 'INTJ|sí|None': 1,\n 'PUNCT|,|INTJ': 2,\n 'NOUN|señor|PUNCT': 1,\n 'PUNCT|,|CCONJ': 27,\n 'NOUN|mesa|DET': 5,\n 'VERB|acabó|PRON': 2,\n 'PRON|eso|VERB': 1,\n 'VERB|usar|ADP': 1,\n 'NOUN|palillos|DET': 2,\n 'ADJ|sola|DET': 3,\n 'NOUN|vez|ADJ': 6,\n '_|tirarlos|CCONJ': 1,\n 'PUNCT|.|PRON': 35,\n 'AUX|hay|None': 4,\n '_|recogerlos|SCONJ': 1,\n 'VERB|recoger|_': 1,\n 'DET|una|PRON': 2,\n 'ADJ|usados|NOUN': 1,\n 'VERB|fregar|PUNCT': 1,\n 'NOUN|restos|DET': 1,\n 'NOUN|comida|ADP': 1,\n 'AUX|hayan|PRON': 1,\n 'VERB|quedado|AUX': 2,\n 'ADJ|adheridos|VERB': 1,\n '_|ponerlos|CCONJ': 1,\n 'VERB|poner|_': 4,\n 'VERB|secar|ADP': 1,\n 'PUNCT|.|VERB': 85,\n 'ADP|de|None': 17,\n 'DET|esta|ADP': 41,\n 'NOUN|manera|DET': 6,\n 'DET|cada|NOUN': 5,\n 'PRON|uno|DET': 5,\n 'PRON|nosotros|ADP': 4,\n 'VERB|evitará|PRON': 1,\n 'NOUN|hectáreas|SCONJ': 1,\n 'NOUN|hectáreas|CCONJ': 1,\n 'NOUN|bosque|ADP': 1,\n 'AUX|sean|NOUN': 1,\n 'VERB|diezmadas|AUX': 1,\n 'DET|cada|VERB': 3,\n 'NOUN|día|DET': 14,\n 'VERB|fabricar|ADP': 1,\n 'DET|esos|VERB': 1,\n 'ADJ|pequeñoburgueses|NOUN': 1,\n 'PRON|que|ADP': 21,\n 'VERB|hurgamos|PRON': 1,\n 'ADP|entre|VERB': 10,\n 'NOUN|caries|DET': 1,\n 'ADV|ya|PUNCT': 20,\n 'ADP|en|SCONJ': 39,\n 'PRON|eso|ADP': 7,\n 'AUX|estamos|PRON': 2,\n 'PUNCT|,|AUX': 11,\n 'NOUN|consejo|DET': 1,\n 'NOUN|dientes|DET': 1,\n 'ADJ|cariados|NOUN': 1,\n 'PRON|nos|PRON': 9,\n 'VERB|arranque|PRON': 1,\n 'NOUN|dentista|DET': 1,\n 'NOUN|nada|PUNCT': 1,\n '_|tirarlos|ADP': 1,\n 'ADV|convenientemente|None': 1,\n 'ADJ|ensartados|ADV': 1,\n 'NOUN|hilo|DET': 1,\n 'NOUN|nylon|ADP': 1,\n 'ADJ|alternados|CCONJ': 1,\n 'NOUN|huesos|DET': 3,\n 'NOUN|aceitunas|DET': 1,\n 'NOUN|aperitivo|ADP': 1,\n 'PUNCT|(|NOUN': 46,\n 'AUX|habremos|PRON': 2,\n 'VERB|guardado|AUX': 1,\n 'ADV|evidentemente|PUNCT': 1,\n 'PUNCT|:|ADV': 1,\n 'ADV|aquí|PUNCT': 1,\n 'VERB|tira|PRON': 1,\n 'PUNCT|!|PRON': 1,\n 'PUNCT|)|PUNCT': 6,\n 'VERB|conseguiremos|PUNCT': 1,\n 'ADJ|bonito|DET': 2,\n 'NOUN|collar|ADJ': 1,\n 'ADJ|recycled|NOUN': 1,\n 'ADJ|ecological|ADJ': 1,\n 'VERB|regalar|ADP': 1,\n 'NOUN|ejemplo|ADP': 6,\n 'NOUN|asistenta|DET': 1,\n 'NOUN|error|DET': 1,\n 'AUX|fue|NOUN': 12,\n '_|haberlo|AUX': 1,\n 'AUX|haber|_': 2,\n 'PRON|lo|AUX': 3,\n 'VERB|comprado|PRON': 1,\n 'NOUN|rebajas|ADP': 1,\n 'ADP|al|None': 14,\n 'VERB|terminar|ADP': 3,\n 'PROPN|navidad|DET': 1,\n 'ADJ|pasada|PROPN': 1,\n 'DET|una|PUNCT': 24,\n 'NOUN|tienda|DET': 1,\n 'NOUN|belenes|ADP': 1,\n 'VERB|ofreció|NOUN': 2,\n 'NOUN|nacimientos|VERB': 1,\n 'NOUN|precio|ADP': 6,\n 'NOUN|quema|ADP': 1,\n 'PRON|nos|CCONJ': 4,\n 'VERB|quemamos|PRON': 1,\n 'AUX|hemos|None': 1,\n 'AUX|debido|AUX': 2,\n '_|pensarlo|AUX': 1,\n 'VERB|pensar|_': 2,\n 'PRON|lo|VERB': 31,\n 'VERB|resultaban|None': 1,\n 'ADV|demasiado|VERB': 1,\n 'ADJ|baratos|ADV': 2,\n 'ADJ|buenos|AUX': 2,\n 'SCONJ|cuando|PUNCT': 12,\n 'VERB|destapamos|SCONJ': 1,\n 'NOUN|caja|DET': 2,\n 'VERB|hace|NOUN': 1,\n 'DET|algunos|VERB': 2,\n 'VERB|descubrimos|PUNCT': 1,\n 'NUM|tres|DET': 13,\n 'NOUN|reyes|NUM': 1,\n 'AUX|eran|NOUN': 3,\n 'ADJ|blancos|AUX': 1,\n 'PROPN|niño|DET': 1,\n 'PROPN|jesús|PROPN': 2,\n 'AUX|había|PUNCT': 2,\n 'NUM|dos|AUX': 4,\n 'PUNCT|.|NUM': 40,\n 'AUX|eran|None': 1,\n 'ADJ|idénticos|AUX': 1,\n 'NOUN|diferencia|ADJ': 1,\n 'AUX|estaba|NOUN': 5,\n 'NOUN|color|DET': 2,\n 'NOUN|pañal|ADP': 1,\n 'AUX|era|PRON': 4,\n 'ADJ|blanco|AUX': 1,\n 'PRON|otro|DET': 1,\n 'ADJ|rojizo|PRON': 1,\n 'NOUN|ausencia|DET': 6,\n 'PROPN|baltasar|ADP': 1,\n 'AUX|era|PROPN': 4,\n 'ADJ|explicable|AUX': 1,\n 'CCONJ|pero|ADJ': 6,\n 'ADJ|alarmante|CCONJ': 1,\n 'VERB|significaba|PUNCT': 1,\n 'NOUN|ola|DET': 3,\n 'ADJ|racista|NOUN': 1,\n 'VERB|acababa|ADJ': 1,\n 'VERB|llegar|ADP': 4,\n 'NOUN|belenes|DET': 1,\n 'CCONJ|pero|None': 30,\n 'NOUN|existencia|DET': 6,\n 'NUM|dos|ADP': 29,\n 'ADV|recién|NUM': 1,\n 'ADJ|nacidos|ADV': 1,\n 'DET|misma|DET': 6,\n 'ADV|sólo|NOUN': 7,\n 'AUX|podía|ADV': 2,\n '_|deberse|AUX': 1,\n 'VERB|deber|_': 1,\n 'PRON|se|VERB': 102,\n 'NOUN|descuido|DET': 1,\n 'NOUN|fábrica|ADP': 1,\n 'ADV|allí|ADP': 1,\n 'DET|las|ADV': 8,\n 'NOUN|rebajas|DET': 1,\n 'PUNCT|-|None': 27,\n 'VERB|sé|ADV': 5,\n 'PRON|qué|VERB': 5,\n 'VERB|ocurre|PRON': 1,\n ...}"
          },
          "metadata": {}
        }
      ]
    },
    {
      "cell_type": "markdown",
      "source": "# Cálculo de probabilidades\n",
      "metadata": {
        "tags": [],
        "cell_id": "00006-c65372a7-27c3-4587-b69f-f660617ecf56",
        "deepnote_cell_type": "markdown"
      }
    },
    {
      "cell_type": "code",
      "metadata": {
        "tags": [],
        "cell_id": "00007-b02f962b-3af7-4997-88ba-c631429eb030",
        "deepnote_to_be_reexecuted": false,
        "source_hash": "3a669589",
        "execution_millis": 1,
        "execution_start": 1616163476299,
        "deepnote_cell_type": "code"
      },
      "source": "probDict = {} # matriz A\n\n#  Probabilities \nfor key in upperCountDict.keys():\n    tag, word, prevtag = key.split('|')\n    consulta_inferior = word+'|'+prevtag\n\n    if lowerCountDict[consulta_inferior]>0:\n        probDict[key] =upperCountDict[key]/lowerCountDict[consulta_inferior]\n    else:\n        print(key)",
      "execution_count": 47,
      "outputs": []
    },
    {
      "cell_type": "markdown",
      "source": "# Cálculo del algoritmo de Viterbi\n\n\nEl cálculo de probabilidades de Viterbi para una categoría gramatical $j$ en una columna $t$ es\n$$\nv_j(t)=\\max{v_{t-1}}(i)\\times P(j|palabra,i,...)\n$$\n\n",
      "metadata": {
        "tags": [],
        "cell_id": "00008-b513e910-27a7-448e-9f80-09de04534ef9",
        "deepnote_cell_type": "markdown"
      }
    },
    {
      "cell_type": "code",
      "metadata": {
        "tags": [],
        "cell_id": "00009-54b7bb9d-f404-4f6d-9d67-c7b7ab4751e8",
        "deepnote_to_be_reexecuted": false,
        "source_hash": "29bc047b",
        "execution_millis": 7,
        "execution_start": 1616163478099,
        "deepnote_cell_type": "code"
      },
      "source": "#identificamos las categorías gramaticales 'upos' únicas en el corpus\n\nstateSet = set([w.split('|')[0] for w in list(upperCountDict.keys())])\n\nstateSet",
      "execution_count": 48,
      "outputs": [
        {
          "output_type": "execute_result",
          "execution_count": 48,
          "data": {
            "text/plain": "{'ADJ',\n 'ADP',\n 'ADV',\n 'AUX',\n 'CCONJ',\n 'DET',\n 'INTJ',\n 'NOUN',\n 'NUM',\n 'PART',\n 'PRON',\n 'PROPN',\n 'PUNCT',\n 'SCONJ',\n 'SYM',\n 'VERB',\n '_'}"
          },
          "metadata": {}
        }
      ]
    },
    {
      "cell_type": "code",
      "metadata": {
        "tags": [],
        "cell_id": "00010-1fe9a7f6-4512-4f97-9c09-6a012220f6ca",
        "deepnote_to_be_reexecuted": false,
        "source_hash": "c4c1bf7d",
        "execution_millis": 24,
        "execution_start": 1616163480148,
        "deepnote_cell_type": "code"
      },
      "source": "#A cada categoría asignamos un índice entero \n\ntagStateDict = {}\nfor i, state in enumerate(stateSet):\n    tagStateDict[state] = i\n\ntagStateDict",
      "execution_count": 49,
      "outputs": [
        {
          "output_type": "execute_result",
          "execution_count": 49,
          "data": {
            "text/plain": "{'INTJ': 0,\n 'VERB': 1,\n 'PART': 2,\n 'NOUN': 3,\n 'SCONJ': 4,\n 'SYM': 5,\n '_': 6,\n 'DET': 7,\n 'AUX': 8,\n 'ADJ': 9,\n 'PRON': 10,\n 'PROPN': 11,\n 'ADV': 12,\n 'ADP': 13,\n 'NUM': 14,\n 'CCONJ': 15,\n 'PUNCT': 16}"
          },
          "metadata": {}
        }
      ]
    },
    {
      "cell_type": "code",
      "metadata": {
        "tags": [],
        "cell_id": "00011-fd3b54b4-1a37-4367-aa5c-d351630853da",
        "deepnote_to_be_reexecuted": false,
        "source_hash": "7d38c593",
        "execution_millis": 1119,
        "execution_start": 1616163483021,
        "deepnote_cell_type": "code"
      },
      "source": "#Calculamos distribución inicial de estados\nwordlist = []#creo una lista vacía\ndata_file = open(\"UD_Spanish-AnCora/es_ancora-ud-dev.conllu\", \"r\", encoding=\"utf-8\") #abro el archivo que descargué al clonar el repositorio, agrego permisos de lectura con \"r\"\n\ncount = 0 # contador de la longitud del corpus\n\ninitTagStateProb = {} #\\rho_i^0\nfor tokenlist in parse_incr(data_file):\n    count += 1\n    tag = tokenlist[0]['upos']\n    if tag in initTagStateProb.keys():\n        initTagStateProb[tag] +=1\n    else:\n        initTagStateProb[tag]=1\n\nfor key in initTagStateProb.keys():\n    initTagStateProb[key] /= count\n\ninitTagStateProb",
      "execution_count": 50,
      "outputs": [
        {
          "output_type": "execute_result",
          "execution_count": 50,
          "data": {
            "text/plain": "{'DET': 0.3633615477629988,\n 'PROPN': 0.1124546553808948,\n 'ADP': 0.16384522370012092,\n 'PRON': 0.034461910519951636,\n 'SCONJ': 0.02418379685610641,\n 'ADV': 0.06287787182587666,\n 'PUNCT': 0.07799274486094317,\n 'VERB': 0.04353083434099154,\n 'ADJ': 0.010882708585247884,\n 'CCONJ': 0.03325272067714631,\n 'NOUN': 0.02720677146311971,\n '_': 0.0006045949214026602,\n 'INTJ': 0.0006045949214026602,\n 'AUX': 0.022370012091898428,\n 'NUM': 0.01995163240628779,\n 'SYM': 0.0006045949214026602,\n 'PART': 0.0018137847642079807}"
          },
          "metadata": {}
        }
      ]
    },
    {
      "cell_type": "code",
      "metadata": {
        "tags": [],
        "cell_id": "00011-c2c64f3f-5f66-4282-b521-de7dff6288e7",
        "deepnote_to_be_reexecuted": false,
        "source_hash": "30f78751",
        "execution_millis": 5,
        "execution_start": 1616163572610,
        "deepnote_cell_type": "code"
      },
      "source": "import nltk\nimport numpy as np\nnltk.download('punkt')\nfrom nltk import word_tokenize\n\ndef Viterbitags(secuencia, probDict = probDict, tagStateDict = tagStateDict, initTagStateProb=initTagStateProb):\n    #inicialización de la primera columna\n\n    seq = word_tokenize(secuencia)\n    viterbiProb = np.zeros((17, len(seq)))\n\n    # para la primera columna\n    for key in tagStateDict.keys():\n        tag_row = tagStateDict[key] #en tag_row está el número del cada categoría gramatical\n        word_tag= key+'|'+seq[0].lower()+'|'+'None'\n        if word_tag in probDict.keys():\n            viterbiProb[tag_row, 0 ] = initTagStateProb[key]*probDict[word_tag]\n    \n\n    # para las siguientes columnas\n    for col in range(1, len(seq)):\n        for key in tagStateDict.keys():\n            tag_row = tagStateDict[key]  #en tag_row está el número del cada categoría gramatical\n            \n            possible_probs = []\n            for key2 in tagStateDict.keys():\n                tag_row2 = tagStateDict[key2]  #voy a variar i=tag_row2 para hallar el max_i\n\n                word_tag= key+'|'+seq[col].lower()+'|'+key2\n                #print(word_tag)\n\n                if word_tag in probDict.keys():\n                    possible_probs.append(viterbiProb[tag_row2, col-1]*probDict[word_tag]) #calculo la probabilidad de Viterbi\n                \n            viterbiProb[tag_row, col] = max(possible_probs, default=0)\n    \n    #construccion de la sección de tags\n    res= []\n    for i, p in enumerate(seq):\n        for tag in tagStateDict.keys():\n            if tagStateDict[tag] == np.argmax(viterbiProb[:, i]):\n                res.append((p,tag))\n\n    return res\n\nmatrix = Viterbitags('estos instrumentos han de rasgar')\nmatrix\n",
      "execution_count": 54,
      "outputs": [
        {
          "name": "stderr",
          "text": "[nltk_data] Downloading package punkt to /root/nltk_data...\n[nltk_data]   Package punkt is already up-to-date!\n",
          "output_type": "stream"
        },
        {
          "output_type": "execute_result",
          "execution_count": 54,
          "data": {
            "text/plain": "[('estos', 'DET'),\n ('instrumentos', 'NOUN'),\n ('han', 'AUX'),\n ('de', 'ADP'),\n ('rasgar', 'VERB')]"
          },
          "metadata": {}
        }
      ]
    },
    {
      "cell_type": "markdown",
      "source": "<a style='text-decoration:none;line-height:16px;display:flex;color:#5B5B62;padding:10px;justify-content:end;' href='https://deepnote.com?utm_source=created-in-deepnote-cell&projectId=0ff8abcd-21e6-41c5-ad5e-88d416b585fc' target=\"_blank\">\n<img style='display:inline;max-height:16px;margin:0px;margin-right:7.5px;' src='data:image/svg+xml;base64,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' > </img>\nCreated in <span style='font-weight:600;margin-left:4px;'>Deepnote</span></a>",
      "metadata": {
        "tags": [],
        "created_in_deepnote_cell": true,
        "deepnote_cell_type": "markdown"
      }
    }
  ],
  "nbformat": 4,
  "nbformat_minor": 2,
  "metadata": {
    "orig_nbformat": 2,
    "deepnote_notebook_id": "67f78f51-e7c5-4ddf-a669-45627059d1cd",
    "deepnote": {},
    "deepnote_execution_queue": []
  }
}